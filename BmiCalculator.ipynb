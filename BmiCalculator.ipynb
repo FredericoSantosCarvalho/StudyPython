{
 "cells": [
  {
   "cell_type": "markdown",
   "id": "91da1b36",
   "metadata": {},
   "source": [
    "# BMI calculator"
   ]
  },
  {
   "attachments": {},
   "cell_type": "markdown",
   "id": "b4470ec2",
   "metadata": {},
   "source": [
    "#### Table:\n",
    "##### Adult with 20 years old or more:\n",
    "18.5 <= Lower weight ;\n",
    "18.5 > and <= 24.9 - Normal weight ;\n",
    "25.0 >= and <= 29.9 - Pre Obese ;\n",
    "30.0 >= and <= 34.9 - Obese Level 1 ;\n",
    "35.0 >= and <= 39.9 - Obese Level 2 ;\n",
    "40 >= Obese Level 3"
   ]
  },
  {
   "cell_type": "code",
   "execution_count": 41,
   "id": "c358c48f",
   "metadata": {},
   "outputs": [
    {
     "name": "stdout",
     "output_type": "stream",
     "text": [
      "Write your weight in kg: 112\n",
      "Write your height in meters: 1.86\n",
      "Your imc is 32.37, you need to loser 25.86 kg to reach normal weight.\n"
     ]
    }
   ],
   "source": [
    "def calcule_imc():\n",
    "    kg = float(input('Write your weight in kg: '))\n",
    "    height = float(input('Write your height in meters: '))\n",
    "        \n",
    "    imc = round( kg / (height*height),2)\n",
    "    \n",
    "    if( imc <= 18.5):\n",
    "        variable = (height*height) * 18.6\n",
    "        difference = variable - kg\n",
    "        print(f'Your imc is {imc}, you need to add {difference} kg to reach normal weight.')\n",
    "    elif( imc > 18.5 and imc <= 24.9 ):\n",
    "        print(f'Your imc is {imc}, congratulations, your weight is normal.')\n",
    "    elif( imc >= 25 and  imc <= 29.9 ):\n",
    "        variable = (height*height) * 24.9\n",
    "        difference = round(kg - variable,2)\n",
    "        print(f'Your imc is {imc}, you need to loser {difference} kg to reach normal weight.')\n",
    "    elif( imc >= 30 and imc <= 34.9 ):\n",
    "        variable = (height*height) * 24.9 \n",
    "        difference = round(kg - variable,2)\n",
    "        print(f'Your imc is {imc}, you need to loser {difference} kg to reach normal weight.')\n",
    "    elif( imc >= 35 and imc <= 39.9 ):\n",
    "        variable = (height*height) * 24.9 \n",
    "        difference = round(kg - variable,2)\n",
    "        print(f'Your imc is {imc}, you need to loser {difference} kg to reach normal weight.')\n",
    "    elif( imc >= 40 ):\n",
    "        variable = (height*height) * 24.9 \n",
    "        difference = round(kg - variable,2)\n",
    "        print(f'Your imc is {imc}, you need to loser {difference} kg to reach normal weight.')\n",
    "calcule_imc()"
   ]
  },
  {
   "cell_type": "code",
   "execution_count": null,
   "id": "dc758285",
   "metadata": {},
   "outputs": [],
   "source": []
  }
 ],
 "metadata": {
  "kernelspec": {
   "display_name": "Python 3 (ipykernel)",
   "language": "python",
   "name": "python3"
  },
  "language_info": {
   "codemirror_mode": {
    "name": "ipython",
    "version": 3
   },
   "file_extension": ".py",
   "mimetype": "text/x-python",
   "name": "python",
   "nbconvert_exporter": "python",
   "pygments_lexer": "ipython3",
   "version": "3.9.7"
  }
 },
 "nbformat": 4,
 "nbformat_minor": 5
}
